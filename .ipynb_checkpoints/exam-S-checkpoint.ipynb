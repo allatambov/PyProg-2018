{
 "cells": [
  {
   "cell_type": "markdown",
   "metadata": {},
   "source": [
    "# Основы программирования в Python\n",
    "\n",
    "*Алла Тамбовцева, НИУ ВШЭ*\n",
    "\n",
    "### Экзамен (20.06)\n",
    "\n",
    "*Время выполнения: 2 часа 40 минут*"
   ]
  },
  {
   "cell_type": "markdown",
   "metadata": {},
   "source": [
    "**Формат.** Экзамен состоит из трех частей. Первая часть ‒ базовая, задания в ней снабжены автоматическими тестами. Вторая часть посвящена работе в `pandas`, а третья ‒ парсингу и web-scraping'у. Никакая из частей экзамена не является обязательной или блокирующей; для того, чтобы получить оценку 4 из 10, нужно набрать 10 баллов из 30. \n",
    "\n",
    "**Формат сдачи.** Итоговый ipynb-файл необходимо загрузить в систему [nbgr-x](http://python.math-hse.info/). Файл должен содержать в себе полные решения всех частей, не только первой, которая проверяется автоматически. "
   ]
  },
  {
   "cell_type": "markdown",
   "metadata": {},
   "source": [
    "### Активировать тесты\n",
    "Запустите следующие ячейку, чтобы иметь возможность запускать тесты. Эту операцию нужно проделывать каждый раз, когда вы перезапускаете ядро. Если какой-то из тестов говорит `NameError: name 'Tester' is not defined`, нужно запустить эту ячейку ещё раз."
   ]
  },
  {
   "cell_type": "code",
   "execution_count": 1,
   "metadata": {},
   "outputs": [],
   "source": [
    "# Фабрика тестов для проверки программ, принимающих данные через input()\n",
    "\n",
    "from collections import deque\n",
    "\n",
    "class Tester(object):\n",
    "    def __init__(self, inp):\n",
    "        self.outputs = []\n",
    "        self.inputs = deque(inp)\n",
    "    def print(self, *args, sep = \" \", end = \"\\n\"):\n",
    "        text = sep.join(map(str, args)) + end\n",
    "        newlines = text.splitlines(keepends=True)\n",
    "        if self.outputs and self.outputs[-1] and self.outputs[-1][-1] != \"\\n\" and newlines:\n",
    "            self.outputs[-1] += newlines[0]\n",
    "            self.outputs.extend(newlines[1:])\n",
    "        else:\n",
    "            self.outputs.extend(newlines)\n",
    "            \n",
    "    def input(self, *args):\n",
    "        assert self.inputs, \"Вы пытаетесь считать больше элементов, чем предусмотрено условием\"\n",
    "        return self.inputs.popleft()\n",
    "    def __enter__(self):\n",
    "        global print\n",
    "        global input\n",
    "        print = self.print\n",
    "        input = self.input\n",
    "        return self.outputs\n",
    "    def __exit__(self, *args):\n",
    "        global print\n",
    "        global input\n",
    "        del print\n",
    "        del input"
   ]
  },
  {
   "cell_type": "markdown",
   "metadata": {},
   "source": [
    "### Часть 1. Базовая (10 баллов)"
   ]
  },
  {
   "cell_type": "markdown",
   "metadata": {},
   "source": [
    "**Задание 1** *(1 балл)* Напишите программу, которая просит пользователя ввести с клавиатуры строку с названием файла с пробелами и выводит на экран название этого же файла, но со знаком `_` вместо пробелов.\n",
    "\n",
    "**Пример работы программы:**\n",
    "\n",
    "Ввод:\n",
    "\n",
    "    Введите название файла: любимое фото.png\n",
    "    \n",
    "Вывод:\n",
    "\n",
    "    любимое_фото.png\n",
    "    \n",
    "Ввод:\n",
    "\n",
    "    Введите название файла: не самое любимое фото.png\n",
    "    \n",
    "Вывод:\n",
    "\n",
    "    не_самое_любимое_фото.png    "
   ]
  },
  {
   "cell_type": "code",
   "execution_count": 2,
   "metadata": {
    "nbgrader": {
     "grade": false,
     "grade_id": "p1",
     "locked": false,
     "schema_version": 1,
     "solution": true
    }
   },
   "outputs": [
    {
     "name": "stdout",
     "output_type": "stream",
     "text": [
      "\n",
      "\n"
     ]
    }
   ],
   "source": [
    "def change():\n",
    "    m = input().replace(' ', '_')\n",
    "    print(m)\n",
    "change()"
   ]
  },
  {
   "cell_type": "code",
   "execution_count": 3,
   "metadata": {
    "nbgrader": {
     "grade": true,
     "grade_id": "p1-test",
     "locked": true,
     "points": 1,
     "schema_version": 1,
     "solution": false
    }
   },
   "outputs": [],
   "source": [
    "test_data = [\n",
    "    (\"любимое фото.png\", [\"любимое_фото.png\\n\"]),\n",
    "    (\"база данных.csv\", [\"база_данных.csv\\n\"]),\n",
    "    (\"это-не-я.png\", [\"это-не-я.png\\n\"]),\n",
    "    (\"не самое любимое фото.png\", [\"не_самое_любимое_фото.png\\n\"])]\n",
    "\n",
    "for inp, out in test_data:\n",
    "    with Tester([inp]) as t:\n",
    "        change()\n",
    "        assert len(t) == 1, \"Вам нужно вывести ровно одну строку с ответом\"\n",
    "        assert t == out, \"Неверный ответ, была введена строка\" + inp"
   ]
  },
  {
   "cell_type": "markdown",
   "metadata": {},
   "source": [
    "**Задание 2** *(1 балл)* Напишите программу, которая просит пользователя последовательно ввести с клавиатуры два числа (каждое с новой строчки), число пройденных экзаменов и общее число экзаменов, и выводит на экран сообщение вида `Пройдено 40.00% пути.` Число процентов должно представляться в виде целого числа; если оно дробное, то дробная часть должна отбрасываться.\n",
    "\n",
    "**Пример работы программы:**\n",
    "\n",
    "Ввод:\n",
    "\n",
    "    Введите число пройденных экзаменов: 2\n",
    "    Введите общее число экзаменов: 8\n",
    "    \n",
    "Вывод: \n",
    " \n",
    "     Пройдено 25 процентов пути."
   ]
  },
  {
   "cell_type": "code",
   "execution_count": 4,
   "metadata": {
    "nbgrader": {
     "grade": false,
     "grade_id": "p2",
     "locked": false,
     "schema_version": 1,
     "solution": true
    }
   },
   "outputs": [
    {
     "data": {
      "text/plain": [
       "<function __main__.my_count>"
      ]
     },
     "execution_count": 4,
     "metadata": {},
     "output_type": "execute_result"
    }
   ],
   "source": [
    "def my_count():\n",
    "    e = int(input('Введите число пройденных экзаменов: '))\n",
    "    t = int(input('Введите общее число экзаменов: '))\n",
    "    a = int(e / t * 100)\n",
    "    print('Пройдено %i процентов пути.' % a)\n",
    "my_count"
   ]
  },
  {
   "cell_type": "code",
   "execution_count": 5,
   "metadata": {
    "nbgrader": {
     "grade": true,
     "grade_id": "p2-test",
     "locked": true,
     "points": 1,
     "schema_version": 1,
     "solution": false
    }
   },
   "outputs": [],
   "source": [
    "test_data = [\n",
    "    (\"6 8\", [\"Пройдено 75 процентов пути.\\n\"]),\n",
    "    (\"1 10\", [\"Пройдено 10 процентов пути.\\n\"]),\n",
    "    (\"2 8\", [\"Пройдено 25 процентов пути.\\n\"]),\n",
    "    (\"3 8\", [\"Пройдено 37 процентов пути.\\n\"])]\n",
    "\n",
    "for inp, out in test_data:\n",
    "    with Tester(inp.split()) as t:\n",
    "        my_count()\n",
    "        assert len(t) == 1, \"Вам нужно вывести ровно одну строку с ответом\"\n",
    "        assert t == out, \"Неверный ответ, была введена строка\" + inp"
   ]
  },
  {
   "cell_type": "markdown",
   "metadata": {},
   "source": [
    "**Задание 3** *(1 балл)* Напишите функцию `my_sqrt()`, которая принимает на вход список неотрицательных чисел и возвращает список квадратных корней из этих чисел. Функция не должна ничего печатать (выводить на экран).\n",
    "\n",
    "**Пример работы программы:**\n",
    "\n",
    "Ввод:\n",
    "\n",
    "    [4, 0, 9, 16, 5]\n",
    "\n",
    "Вывод:\n",
    "\n",
    "    [2, 0, 3, 4, 2.]"
   ]
  },
  {
   "cell_type": "code",
   "execution_count": 6,
   "metadata": {
    "nbgrader": {
     "grade": false,
     "grade_id": "p3",
     "locked": false,
     "schema_version": 1,
     "solution": true
    }
   },
   "outputs": [],
   "source": [
    "def my_sqrt(j):\n",
    "    import math\n",
    "    j = [math.sqrt(i) for i in j]\n",
    "    return j"
   ]
  },
  {
   "cell_type": "code",
   "execution_count": 7,
   "metadata": {
    "nbgrader": {
     "grade": true,
     "grade_id": "p3-test",
     "locked": true,
     "points": 1,
     "schema_version": 1,
     "solution": false
    }
   },
   "outputs": [],
   "source": [
    "import math\n",
    "tol = 0.0001\n",
    "eq = lambda a, b: abs(a-b) < tol\n",
    "\n",
    "test = [([4, 0, 9, 16, 5], [2.0, 0.0, 3.0, 4.0, 2.23606797749979]),\n",
    "       ([2, 1, 3], [1.4142135623730951, 1.0, 1.7320508075688772]),\n",
    "       ([0, 7], [0.0, 2.6457513110645907]),\n",
    "       ([5.56, 1.21, 8], [2.3579652245103193, 1.1, 2.8284271247461903])]\n",
    "\n",
    "for p in test:\n",
    "    for i in range(0, len(p[0])):\n",
    "        assert eq(my_sqrt(p[0])[i], p[1][i]), \"Неверный ответ для \" + str(p[0])\n",
    "\n",
    "with Tester([]) as t:\n",
    "    my_sqrt([4, 0, 9, 16, 5])\n",
    "    assert len(t) == 0, \"функция ничего не должна печатать\""
   ]
  },
  {
   "cell_type": "markdown",
   "metadata": {},
   "source": [
    "**Задание 4** *(1 балл)* Напишите функцию `make_list()`, которая принимает на вход строку, содержащую целые числа, указанные через пробел, и возвращает список целых чисел. Функция не должна ничего печатать (выводить на экран).\n",
    "\n",
    "**Пример работы программы:**\n",
    "\n",
    "На входе: \n",
    "\n",
    "    4 6 7 0 -1\n",
    "\n",
    "На выходе:\n",
    "\n",
    "    [4, 6, 7, 0, -1]"
   ]
  },
  {
   "cell_type": "code",
   "execution_count": 8,
   "metadata": {
    "nbgrader": {
     "grade": false,
     "grade_id": "p4",
     "locked": false,
     "schema_version": 1,
     "solution": true
    }
   },
   "outputs": [],
   "source": [
    "def make_list(e):\n",
    "    e = e.split()\n",
    "    e = [int(i) for i in e]\n",
    "    return e"
   ]
  },
  {
   "cell_type": "code",
   "execution_count": 9,
   "metadata": {
    "nbgrader": {
     "grade": true,
     "grade_id": "p4-test",
     "locked": true,
     "points": 1,
     "schema_version": 1,
     "solution": false
    }
   },
   "outputs": [],
   "source": [
    "assert(make_list(\"4 6 7 0 -1\") == [4, 6, 7, 0, -1]), \"Ошибка при вводе строки \" + \"4 6 7 0 -1\"\n",
    "assert(make_list(\"2 22 7\") == [2, 22, 7]), \"Ошибка при вводе строки \" + \"2 22 7\"\n",
    "assert(make_list(\"-32 -101 -6\") == [-32, -101, -6]), \"Ошибка при вводе строки \" + \"-32 -101 -6\""
   ]
  },
  {
   "cell_type": "markdown",
   "metadata": {},
   "source": [
    "**Задание 5** *(1 балл)* Напишите функцию `col_music()`, которая просит пользователя ввести название цвета, и, если цвет равен `yellow`, она выводит на экран строку \"We all live in a yellow submarine\", если `green`, то \"And the green grass grows all around, all around\", если `black`, то \"Black night is not right\". Если пользователь вводит какой-то другой цвет или один из перечисленных цветов в другом регистре или с опечатками, функция должна выводить на экран строку \"Too hard. Make up something else.\" Функция не должна ничего возвращать.\n",
    "\n",
    "**Пример работы программы:**\n",
    "\n",
    "На входе:\n",
    "\n",
    "    Enter color: black\n",
    "\n",
    "На выходе (вывод на экране):\n",
    "\n",
    "    Black night is not right"
   ]
  },
  {
   "cell_type": "code",
   "execution_count": 10,
   "metadata": {
    "nbgrader": {
     "grade": false,
     "grade_id": "p5",
     "locked": false,
     "schema_version": 1,
     "solution": true
    }
   },
   "outputs": [],
   "source": [
    "def col_music():\n",
    "    c = input('Enter color: ')\n",
    "    if c == 'yellow':\n",
    "        print('We all live in a yellow submarine')\n",
    "    elif c == 'green':\n",
    "        print('And the green grass grows all around, all around')\n",
    "    elif c == 'black':\n",
    "        print('Black night is not right')\n",
    "    else:\n",
    "        print('Too hard. Make up something else.')"
   ]
  },
  {
   "cell_type": "code",
   "execution_count": 11,
   "metadata": {
    "nbgrader": {
     "grade": true,
     "grade_id": "p5-test",
     "locked": true,
     "points": 1,
     "schema_version": 1,
     "solution": false
    }
   },
   "outputs": [],
   "source": [
    "test_data = [\n",
    "    (\"black\", [\"Black night is not right\\n\"]),\n",
    "    (\"green\", [\"And the green grass grows all around, all around\\n\"]),\n",
    "    (\"yellow\", [\"We all live in a yellow submarine\\n\"]),\n",
    "    (\"Yellowe\", [\"Too hard. Make up something else.\\n\"])]\n",
    "\n",
    "for inp, out in test_data:\n",
    "    with Tester([inp]) as t:\n",
    "        col_music()\n",
    "        assert len(t) == 1, \"Вам нужно вывести ровно одну строку с ответом\"\n",
    "        assert t == out, \"Неверный ответ, была введена строка \" + inp"
   ]
  },
  {
   "cell_type": "markdown",
   "metadata": {},
   "source": [
    "**Задание 6** *(1 балл)* Напишите функцию `make_double()`, которая принимает на вход некоторый список, а возвращает кортеж из двух списков: принятого на вход (старого) и преобразованного (нового). Преобразованный список представляет собой продублированный список, принятый на вход. Функция не должна ничего печатать (выводить на экран).\n",
    "\n",
    "**Пример работы программы:**\n",
    "\n",
    "На входе:\n",
    "\n",
    "    ['a', 'b', 3]\n",
    "\n",
    "На выходе:\n",
    "\n",
    "    (['a', 'b', 3], ['a', 'b', 3, 'a', 'b', 3])"
   ]
  },
  {
   "cell_type": "code",
   "execution_count": 12,
   "metadata": {
    "nbgrader": {
     "grade": false,
     "grade_id": "p6",
     "locked": false,
     "schema_version": 1,
     "solution": true
    }
   },
   "outputs": [],
   "source": [
    "def make_double(m):\n",
    "    f = (m, m+m)\n",
    "    return f"
   ]
  },
  {
   "cell_type": "code",
   "execution_count": 13,
   "metadata": {
    "nbgrader": {
     "grade": true,
     "grade_id": "p6-test",
     "locked": true,
     "points": 1,
     "schema_version": 1,
     "solution": false
    }
   },
   "outputs": [],
   "source": [
    "assert make_double(['a', 'b', 3]) == (['a', 'b', 3], ['a', 'b', 3, 'a', 'b', 3]), \"Ошибка при вводе \" + str(['a', 'b', 3])\n",
    "assert make_double([1, 0, 3, 3]) == ([1, 0, 3, 3], [1, 0, 3, 3, 1, 0, 3, 3]), \"Ошибка при вводе \" + str([1, 0, 3, 3])\n",
    "assert make_double([-1, 6, 5, 9, 'q']) == ([-1, 6, 5, 9, 'q'], [-1, 6, 5, 9, 'q',-1, 6, 5, 9, 'q']), \"Ошибка при вводе \" + str(-1, 6, 5, 9, 'q')"
   ]
  },
  {
   "cell_type": "markdown",
   "metadata": {},
   "source": [
    "**Задание 7** *(2 балла)* Напишите функцию `slov_find()`, которая принимает на вход два аргумента\n",
    "\n",
    "* слово на русском или словенском языке\n",
    "* целое число, обозначающее перевод языка. 1 ‒ со словенского на русский, 2 ‒ с русского на словенский\n",
    "\n",
    "и возвращает соответствующий перевод слова. Считайте, что пользователь вводит слова из готового словаря `my_dict`. Если введенного слова нет в словаре `my_dict`, должна возвращаться строка \"Слово не найдено\"."
   ]
  },
  {
   "cell_type": "markdown",
   "metadata": {},
   "source": [
    "**Пример работы программы:**\n",
    "    \n",
    "На входе: \n",
    "\n",
    "    slov_find(fant, 1)\n",
    "\n",
    "На выходе:\n",
    "    \n",
    "    парень\n",
    "    \n",
    "На входе:\n",
    "\n",
    "    slov_find(язык, 2)\n",
    "\n",
    "На выходе:\n",
    "\n",
    "    jezik\n",
    "    \n",
    "На входе:\n",
    "\n",
    "    slov_find(открытка, 2)\n",
    "\n",
    "На выходе:\n",
    "\n",
    "    Слово не найдено"
   ]
  },
  {
   "cell_type": "code",
   "execution_count": 14,
   "metadata": {
    "nbgrader": {
     "grade": false,
     "grade_id": "p7",
     "locked": false,
     "schema_version": 1,
     "solution": true
    }
   },
   "outputs": [],
   "source": [
    "def slov_find(w, l):\n",
    "    back = {v:k for k, v in my_dict.items()}\n",
    "    if w in my_dict.items():\n",
    "        if l == 1:\n",
    "            return my_dict(w)\n",
    "        if l == 2:\n",
    "            return back(w)\n",
    "    else:\n",
    "        return 'Слово не найдено'"
   ]
  },
  {
   "cell_type": "code",
   "execution_count": 15,
   "metadata": {},
   "outputs": [],
   "source": [
    "my_dict = {'računalnik': 'компьютер', 'fant' : 'парень', 'sladoled' : 'мороженое', 'kosilo' : 'обед', \n",
    "           'jezik' : 'язык', 'hrbetnica' : 'позвоночник', 'enota' : 'урок'}"
   ]
  },
  {
   "cell_type": "code",
   "execution_count": 16,
   "metadata": {
    "nbgrader": {
     "grade": true,
     "grade_id": "p7-test",
     "locked": true,
     "points": 2,
     "schema_version": 1,
     "solution": false
    }
   },
   "outputs": [],
   "source": [
    "assert slov_find('fant', 1), \"Ошибка при вводе слова \" + \"fant\"\n",
    "assert slov_find('računalnik', 1), \"Ошибка при вводе слова \" + \"računalnik\"\n",
    "assert slov_find('sladoled', 1), \"Ошибка при вводе слова \" + \"sladoled\"\n",
    "assert slov_find('урок', 2), \"Ошибка при вводе слова \" + \"урок\"\n",
    "assert slov_find('обед', 2), \"Ошибка при вводе слова \" + \"обед\""
   ]
  },
  {
   "cell_type": "markdown",
   "metadata": {},
   "source": [
    "**Задание 8** *(3 балла)* Напишите функцию `my_count()`, которая принимает на вход целое число в формате строки (*string*) и,\n",
    "\n",
    "* если число однозначное, возвращает пустой словарь;\n",
    "* если число состоит более, чем из одной цифры, возвращает словарь вида `{\"сумма цифр\" : 12, \"произведение цифр\": 27}`.\n",
    "\n",
    "Пользоваться готовой функцией `sum()` можно. Для произведения можно импортировать библиотеку `numpy` и взять оттуда функцию `prod()`. Например, `numpy.prod([1,6,7])`."
   ]
  },
  {
   "cell_type": "code",
   "execution_count": 17,
   "metadata": {
    "nbgrader": {
     "grade": false,
     "grade_id": "p8",
     "locked": false,
     "schema_version": 1,
     "solution": true
    }
   },
   "outputs": [],
   "source": [
    "def my_count(n):\n",
    "    if len(n) > 1:\n",
    "        n = [int(i) for i in list(n)]\n",
    "        s = sum(n)\n",
    "        import numpy\n",
    "        m = numpy.prod(n)\n",
    "        res = {'сумма цифр' : s, 'произведение цифр' : m}\n",
    "    else:\n",
    "        res = {}\n",
    "    return res"
   ]
  },
  {
   "cell_type": "code",
   "execution_count": 18,
   "metadata": {
    "nbgrader": {
     "grade": true,
     "grade_id": "p8-test",
     "locked": true,
     "points": 2,
     "schema_version": 1,
     "solution": false
    }
   },
   "outputs": [],
   "source": [
    "assert my_count('325') == {'произведение цифр': 30, 'сумма цифр': 10}, \"Ошибка при вводе числа 325\"\n",
    "assert my_count('111') == {'произведение цифр': 1, 'сумма цифр': 3}, \"Ошибка при вводе числа 111\"\n",
    "assert my_count('45623') == {'произведение цифр': 720, 'сумма цифр': 20}, \"Ошибка при вводе числа 45623\""
   ]
  },
  {
   "cell_type": "markdown",
   "metadata": {},
   "source": [
    "### Часть 2. Работа с `pandas` (12 баллов)"
   ]
  },
  {
   "cell_type": "markdown",
   "metadata": {},
   "source": [
    "1. Загрузите csv-файл с таблицей по [ссылке](http://math-info.hse.ru/f/2017-18/py-prog/Fishing.csv). Описание базы см. [здесь](https://vincentarelbundock.github.io/Rdatasets/doc/Ecdat/Fishing.html).*(0.5 балла)*\n",
    "2. Выведите описательные статистики для всех количественных (*integer*, *float*) переменных в базе. *(1 балл)*\n",
    "3. Выберите из таблицы только строки, которые соответствуют респондентам, которые выбрали рыбалку на берегу (beach) *(1 балл)*\n",
    "4. Выберите из таблицы строки, которые соответствуют респондентам, которые предпочитают рыбачить на лодке (boat) с доходом  (*income*) ниже 3500. Сохраните результат в переменную `d`. *(1 балл)*\n",
    "5. Переименуйте столбец *catch* в *c_rate*. *(1 балл)*\n",
    "6. Добавьте в таблицу столбец *log_income*, содержащий натуральный логарифм доходов респондентов. *(2 балла)*\n",
    "7. Сгруппируйте наблюдения в таблице по признаку *тип рыбалки* (*mode*) и выведите для каждого типа среднюю цену (*price*), которую респонденты готовы заплатить за рыбалку *(2 балла)*\n",
    "8. Постройте гистограмму для показателя *pboat*, поменяйте ее цвет и добавьте название графика. *(2 балла)*\n",
    "9. Выведите на экран первые 8 строк таблицы. А теперь последние 8. *(1 балл)*\n",
    "10. Сохраните датафрейм в csv-файл. *(0.5 балла)*"
   ]
  },
  {
   "cell_type": "code",
   "execution_count": 35,
   "metadata": {},
   "outputs": [],
   "source": [
    "#1\n",
    "import pandas as pd\n",
    "df = pd.read_csv('Fishing.csv')"
   ]
  },
  {
   "cell_type": "code",
   "execution_count": 36,
   "metadata": {},
   "outputs": [
    {
     "name": "stdout",
     "output_type": "stream",
     "text": [
      "<class 'pandas.core.frame.DataFrame'>\n",
      "RangeIndex: 1182 entries, 0 to 1181\n",
      "Data columns (total 13 columns):\n",
      "Unnamed: 0    1182 non-null int64\n",
      "mode          1182 non-null object\n",
      "price         1182 non-null float64\n",
      "catch         1182 non-null float64\n",
      "pbeach        1182 non-null float64\n",
      "ppier         1182 non-null float64\n",
      "pboat         1182 non-null float64\n",
      "pcharter      1182 non-null float64\n",
      "cbeach        1182 non-null float64\n",
      "cpier         1182 non-null float64\n",
      "cboat         1182 non-null float64\n",
      "ccharter      1182 non-null float64\n",
      "income        1182 non-null float64\n",
      "dtypes: float64(11), int64(1), object(1)\n",
      "memory usage: 120.1+ KB\n"
     ]
    }
   ],
   "source": [
    "#2\n",
    "df.info()"
   ]
  },
  {
   "cell_type": "code",
   "execution_count": 37,
   "metadata": {},
   "outputs": [
    {
     "data": {
      "text/html": [
       "<div>\n",
       "<style scoped>\n",
       "    .dataframe tbody tr th:only-of-type {\n",
       "        vertical-align: middle;\n",
       "    }\n",
       "\n",
       "    .dataframe tbody tr th {\n",
       "        vertical-align: top;\n",
       "    }\n",
       "\n",
       "    .dataframe thead th {\n",
       "        text-align: right;\n",
       "    }\n",
       "</style>\n",
       "<table border=\"1\" class=\"dataframe\">\n",
       "  <thead>\n",
       "    <tr style=\"text-align: right;\">\n",
       "      <th></th>\n",
       "      <th>price</th>\n",
       "      <th>catch</th>\n",
       "      <th>pbeach</th>\n",
       "      <th>ppier</th>\n",
       "      <th>pboat</th>\n",
       "      <th>pcharter</th>\n",
       "      <th>cbeach</th>\n",
       "      <th>cpier</th>\n",
       "      <th>cboat</th>\n",
       "      <th>ccharter</th>\n",
       "      <th>income</th>\n",
       "    </tr>\n",
       "  </thead>\n",
       "  <tbody>\n",
       "    <tr>\n",
       "      <th>count</th>\n",
       "      <td>1182.000000</td>\n",
       "      <td>1182.000000</td>\n",
       "      <td>1182.000000</td>\n",
       "      <td>1182.000000</td>\n",
       "      <td>1182.000000</td>\n",
       "      <td>1182.000000</td>\n",
       "      <td>1182.000000</td>\n",
       "      <td>1182.000000</td>\n",
       "      <td>1182.000000</td>\n",
       "      <td>1182.000000</td>\n",
       "      <td>1182.000000</td>\n",
       "    </tr>\n",
       "    <tr>\n",
       "      <th>mean</th>\n",
       "      <td>52.081975</td>\n",
       "      <td>0.389368</td>\n",
       "      <td>103.422005</td>\n",
       "      <td>103.422005</td>\n",
       "      <td>55.256570</td>\n",
       "      <td>84.379244</td>\n",
       "      <td>0.241011</td>\n",
       "      <td>0.162224</td>\n",
       "      <td>0.171215</td>\n",
       "      <td>0.629368</td>\n",
       "      <td>4099.337054</td>\n",
       "    </tr>\n",
       "    <tr>\n",
       "      <th>std</th>\n",
       "      <td>53.829970</td>\n",
       "      <td>0.560596</td>\n",
       "      <td>103.641042</td>\n",
       "      <td>103.641042</td>\n",
       "      <td>62.713444</td>\n",
       "      <td>63.544650</td>\n",
       "      <td>0.190752</td>\n",
       "      <td>0.160390</td>\n",
       "      <td>0.209789</td>\n",
       "      <td>0.706114</td>\n",
       "      <td>2461.964060</td>\n",
       "    </tr>\n",
       "    <tr>\n",
       "      <th>min</th>\n",
       "      <td>1.290000</td>\n",
       "      <td>0.000200</td>\n",
       "      <td>1.290000</td>\n",
       "      <td>1.290000</td>\n",
       "      <td>2.290000</td>\n",
       "      <td>27.290000</td>\n",
       "      <td>0.067800</td>\n",
       "      <td>0.001400</td>\n",
       "      <td>0.000200</td>\n",
       "      <td>0.002100</td>\n",
       "      <td>416.666680</td>\n",
       "    </tr>\n",
       "    <tr>\n",
       "      <th>25%</th>\n",
       "      <td>15.870000</td>\n",
       "      <td>0.036100</td>\n",
       "      <td>26.656500</td>\n",
       "      <td>26.656500</td>\n",
       "      <td>13.122000</td>\n",
       "      <td>42.896000</td>\n",
       "      <td>0.067800</td>\n",
       "      <td>0.050300</td>\n",
       "      <td>0.023300</td>\n",
       "      <td>0.021900</td>\n",
       "      <td>2083.333200</td>\n",
       "    </tr>\n",
       "    <tr>\n",
       "      <th>50%</th>\n",
       "      <td>37.896000</td>\n",
       "      <td>0.164300</td>\n",
       "      <td>74.628000</td>\n",
       "      <td>74.628000</td>\n",
       "      <td>33.534000</td>\n",
       "      <td>61.607000</td>\n",
       "      <td>0.253700</td>\n",
       "      <td>0.078900</td>\n",
       "      <td>0.089700</td>\n",
       "      <td>0.421600</td>\n",
       "      <td>3749.999900</td>\n",
       "    </tr>\n",
       "    <tr>\n",
       "      <th>75%</th>\n",
       "      <td>67.513000</td>\n",
       "      <td>0.533300</td>\n",
       "      <td>144.144000</td>\n",
       "      <td>144.144000</td>\n",
       "      <td>72.402000</td>\n",
       "      <td>102.774000</td>\n",
       "      <td>0.533300</td>\n",
       "      <td>0.149800</td>\n",
       "      <td>0.241300</td>\n",
       "      <td>1.026600</td>\n",
       "      <td>5416.666700</td>\n",
       "    </tr>\n",
       "    <tr>\n",
       "      <th>max</th>\n",
       "      <td>666.110000</td>\n",
       "      <td>2.310100</td>\n",
       "      <td>843.186000</td>\n",
       "      <td>843.186000</td>\n",
       "      <td>666.110000</td>\n",
       "      <td>691.110000</td>\n",
       "      <td>0.533300</td>\n",
       "      <td>0.452200</td>\n",
       "      <td>0.736900</td>\n",
       "      <td>2.310100</td>\n",
       "      <td>12499.998000</td>\n",
       "    </tr>\n",
       "  </tbody>\n",
       "</table>\n",
       "</div>"
      ],
      "text/plain": [
       "             price        catch       pbeach        ppier        pboat  \\\n",
       "count  1182.000000  1182.000000  1182.000000  1182.000000  1182.000000   \n",
       "mean     52.081975     0.389368   103.422005   103.422005    55.256570   \n",
       "std      53.829970     0.560596   103.641042   103.641042    62.713444   \n",
       "min       1.290000     0.000200     1.290000     1.290000     2.290000   \n",
       "25%      15.870000     0.036100    26.656500    26.656500    13.122000   \n",
       "50%      37.896000     0.164300    74.628000    74.628000    33.534000   \n",
       "75%      67.513000     0.533300   144.144000   144.144000    72.402000   \n",
       "max     666.110000     2.310100   843.186000   843.186000   666.110000   \n",
       "\n",
       "          pcharter       cbeach        cpier        cboat     ccharter  \\\n",
       "count  1182.000000  1182.000000  1182.000000  1182.000000  1182.000000   \n",
       "mean     84.379244     0.241011     0.162224     0.171215     0.629368   \n",
       "std      63.544650     0.190752     0.160390     0.209789     0.706114   \n",
       "min      27.290000     0.067800     0.001400     0.000200     0.002100   \n",
       "25%      42.896000     0.067800     0.050300     0.023300     0.021900   \n",
       "50%      61.607000     0.253700     0.078900     0.089700     0.421600   \n",
       "75%     102.774000     0.533300     0.149800     0.241300     1.026600   \n",
       "max     691.110000     0.533300     0.452200     0.736900     2.310100   \n",
       "\n",
       "             income  \n",
       "count   1182.000000  \n",
       "mean    4099.337054  \n",
       "std     2461.964060  \n",
       "min      416.666680  \n",
       "25%     2083.333200  \n",
       "50%     3749.999900  \n",
       "75%     5416.666700  \n",
       "max    12499.998000  "
      ]
     },
     "execution_count": 37,
     "metadata": {},
     "output_type": "execute_result"
    }
   ],
   "source": [
    "#2\n",
    "df.loc[:, 'price':'income'].describe()"
   ]
  },
  {
   "cell_type": "code",
   "execution_count": 39,
   "metadata": {},
   "outputs": [],
   "source": [
    "#3\n",
    "beach = df[df['mode'] == 'beach']"
   ]
  },
  {
   "cell_type": "code",
   "execution_count": 40,
   "metadata": {},
   "outputs": [],
   "source": [
    "#4\n",
    "boat = df[(df['mode'] == 'boat') & (df['income'] < 3500)]"
   ]
  },
  {
   "cell_type": "code",
   "execution_count": 41,
   "metadata": {},
   "outputs": [],
   "source": [
    "#5\n",
    "cols = list(df.columns)\n",
    "cols[cols.index('catch')] = 'c_rate'\n",
    "df.columns = cols"
   ]
  },
  {
   "cell_type": "code",
   "execution_count": 42,
   "metadata": {},
   "outputs": [],
   "source": [
    "#6\n",
    "import numpy\n",
    "df['log_income'] = numpy.log(df['income'])"
   ]
  },
  {
   "cell_type": "code",
   "execution_count": 43,
   "metadata": {},
   "outputs": [
    {
     "data": {
      "text/plain": [
       "mode\n",
       "beach      4051.616731\n",
       "boat       4654.106543\n",
       "charter    3880.899520\n",
       "pier       3387.172123\n",
       "Name: income, dtype: float64"
      ]
     },
     "execution_count": 43,
     "metadata": {},
     "output_type": "execute_result"
    }
   ],
   "source": [
    "#7\n",
    "df.groupby('mode').agg('mean')['income']"
   ]
  },
  {
   "cell_type": "code",
   "execution_count": 44,
   "metadata": {},
   "outputs": [
    {
     "data": {
      "text/plain": [
       "<matplotlib.axes._subplots.AxesSubplot at 0x7f0875f3ec50>"
      ]
     },
     "execution_count": 44,
     "metadata": {},
     "output_type": "execute_result"
    },
    {
     "data": {
      "image/png": "[encoded data removed]",
      "text/plain": [
       "<matplotlib.figure.Figure at 0x7f0877cd4a58>"
      ]
     },
     "metadata": {},
     "output_type": "display_data"
    }
   ],
   "source": [
    "#8\n",
    "import matplotlib\n",
    "%matplotlib inline\n",
    "df['pboat'].plot.hist(color = 'purple', title = 'Pboat Histogram')"
   ]
  },
  {
   "cell_type": "code",
   "execution_count": 45,
   "metadata": {},
   "outputs": [
    {
     "data": {
      "text/html": [
       "<div>\n",
       "<style scoped>\n",
       "    .dataframe tbody tr th:only-of-type {\n",
       "        vertical-align: middle;\n",
       "    }\n",
       "\n",
       "    .dataframe tbody tr th {\n",
       "        vertical-align: top;\n",
       "    }\n",
       "\n",
       "    .dataframe thead th {\n",
       "        text-align: right;\n",
       "    }\n",
       "</style>\n",
       "<table border=\"1\" class=\"dataframe\">\n",
       "  <thead>\n",
       "    <tr style=\"text-align: right;\">\n",
       "      <th></th>\n",
       "      <th>Unnamed: 0</th>\n",
       "      <th>mode</th>\n",
       "      <th>price</th>\n",
       "      <th>c_rate</th>\n",
       "      <th>pbeach</th>\n",
       "      <th>ppier</th>\n",
       "      <th>pboat</th>\n",
       "      <th>pcharter</th>\n",
       "      <th>cbeach</th>\n",
       "      <th>cpier</th>\n",
       "      <th>cboat</th>\n",
       "      <th>ccharter</th>\n",
       "      <th>income</th>\n",
       "      <th>log_income</th>\n",
       "    </tr>\n",
       "  </thead>\n",
       "  <tbody>\n",
       "    <tr>\n",
       "      <th>0</th>\n",
       "      <td>1</td>\n",
       "      <td>charter</td>\n",
       "      <td>182.930</td>\n",
       "      <td>0.5391</td>\n",
       "      <td>157.930</td>\n",
       "      <td>157.930</td>\n",
       "      <td>157.930</td>\n",
       "      <td>182.930</td>\n",
       "      <td>0.0678</td>\n",
       "      <td>0.0503</td>\n",
       "      <td>0.2601</td>\n",
       "      <td>0.5391</td>\n",
       "      <td>7083.3317</td>\n",
       "      <td>8.865500</td>\n",
       "    </tr>\n",
       "    <tr>\n",
       "      <th>1</th>\n",
       "      <td>2</td>\n",
       "      <td>charter</td>\n",
       "      <td>34.534</td>\n",
       "      <td>0.4671</td>\n",
       "      <td>15.114</td>\n",
       "      <td>15.114</td>\n",
       "      <td>10.534</td>\n",
       "      <td>34.534</td>\n",
       "      <td>0.1049</td>\n",
       "      <td>0.0451</td>\n",
       "      <td>0.1574</td>\n",
       "      <td>0.4671</td>\n",
       "      <td>1249.9998</td>\n",
       "      <td>7.130899</td>\n",
       "    </tr>\n",
       "    <tr>\n",
       "      <th>2</th>\n",
       "      <td>3</td>\n",
       "      <td>boat</td>\n",
       "      <td>24.334</td>\n",
       "      <td>0.2413</td>\n",
       "      <td>161.874</td>\n",
       "      <td>161.874</td>\n",
       "      <td>24.334</td>\n",
       "      <td>59.334</td>\n",
       "      <td>0.5333</td>\n",
       "      <td>0.4522</td>\n",
       "      <td>0.2413</td>\n",
       "      <td>1.0266</td>\n",
       "      <td>3749.9999</td>\n",
       "      <td>8.229511</td>\n",
       "    </tr>\n",
       "    <tr>\n",
       "      <th>3</th>\n",
       "      <td>4</td>\n",
       "      <td>pier</td>\n",
       "      <td>15.134</td>\n",
       "      <td>0.0789</td>\n",
       "      <td>15.134</td>\n",
       "      <td>15.134</td>\n",
       "      <td>55.930</td>\n",
       "      <td>84.930</td>\n",
       "      <td>0.0678</td>\n",
       "      <td>0.0789</td>\n",
       "      <td>0.1643</td>\n",
       "      <td>0.5391</td>\n",
       "      <td>2083.3332</td>\n",
       "      <td>7.641724</td>\n",
       "    </tr>\n",
       "    <tr>\n",
       "      <th>4</th>\n",
       "      <td>5</td>\n",
       "      <td>boat</td>\n",
       "      <td>41.514</td>\n",
       "      <td>0.1082</td>\n",
       "      <td>106.930</td>\n",
       "      <td>106.930</td>\n",
       "      <td>41.514</td>\n",
       "      <td>71.014</td>\n",
       "      <td>0.0678</td>\n",
       "      <td>0.0503</td>\n",
       "      <td>0.1082</td>\n",
       "      <td>0.3240</td>\n",
       "      <td>4583.3320</td>\n",
       "      <td>8.430182</td>\n",
       "    </tr>\n",
       "    <tr>\n",
       "      <th>5</th>\n",
       "      <td>6</td>\n",
       "      <td>charter</td>\n",
       "      <td>63.934</td>\n",
       "      <td>0.3975</td>\n",
       "      <td>192.474</td>\n",
       "      <td>192.474</td>\n",
       "      <td>28.934</td>\n",
       "      <td>63.934</td>\n",
       "      <td>0.5333</td>\n",
       "      <td>0.4522</td>\n",
       "      <td>0.1665</td>\n",
       "      <td>0.3975</td>\n",
       "      <td>4583.3320</td>\n",
       "      <td>8.430182</td>\n",
       "    </tr>\n",
       "    <tr>\n",
       "      <th>6</th>\n",
       "      <td>7</td>\n",
       "      <td>beach</td>\n",
       "      <td>51.934</td>\n",
       "      <td>0.0678</td>\n",
       "      <td>51.934</td>\n",
       "      <td>51.934</td>\n",
       "      <td>191.930</td>\n",
       "      <td>220.930</td>\n",
       "      <td>0.0678</td>\n",
       "      <td>0.0789</td>\n",
       "      <td>0.1643</td>\n",
       "      <td>0.5391</td>\n",
       "      <td>8750.0010</td>\n",
       "      <td>9.076809</td>\n",
       "    </tr>\n",
       "    <tr>\n",
       "      <th>7</th>\n",
       "      <td>8</td>\n",
       "      <td>charter</td>\n",
       "      <td>56.714</td>\n",
       "      <td>0.0209</td>\n",
       "      <td>15.134</td>\n",
       "      <td>15.134</td>\n",
       "      <td>21.714</td>\n",
       "      <td>56.714</td>\n",
       "      <td>0.0678</td>\n",
       "      <td>0.0789</td>\n",
       "      <td>0.0102</td>\n",
       "      <td>0.0209</td>\n",
       "      <td>2083.3332</td>\n",
       "      <td>7.641724</td>\n",
       "    </tr>\n",
       "  </tbody>\n",
       "</table>\n",
       "</div>"
      ],
      "text/plain": [
       "   Unnamed: 0     mode    price  c_rate   pbeach    ppier    pboat  pcharter  \\\n",
       "0           1  charter  182.930  0.5391  157.930  157.930  157.930   182.930   \n",
       "1           2  charter   34.534  0.4671   15.114   15.114   10.534    34.534   \n",
       "2           3     boat   24.334  0.2413  161.874  161.874   24.334    59.334   \n",
       "3           4     pier   15.134  0.0789   15.134   15.134   55.930    84.930   \n",
       "4           5     boat   41.514  0.1082  106.930  106.930   41.514    71.014   \n",
       "5           6  charter   63.934  0.3975  192.474  192.474   28.934    63.934   \n",
       "6           7    beach   51.934  0.0678   51.934   51.934  191.930   220.930   \n",
       "7           8  charter   56.714  0.0209   15.134   15.134   21.714    56.714   \n",
       "\n",
       "   cbeach   cpier   cboat  ccharter     income  log_income  \n",
       "0  0.0678  0.0503  0.2601    0.5391  7083.3317    8.865500  \n",
       "1  0.1049  0.0451  0.1574    0.4671  1249.9998    7.130899  \n",
       "2  0.5333  0.4522  0.2413    1.0266  3749.9999    8.229511  \n",
       "3  0.0678  0.0789  0.1643    0.5391  2083.3332    7.641724  \n",
       "4  0.0678  0.0503  0.1082    0.3240  4583.3320    8.430182  \n",
       "5  0.5333  0.4522  0.1665    0.3975  4583.3320    8.430182  \n",
       "6  0.0678  0.0789  0.1643    0.5391  8750.0010    9.076809  \n",
       "7  0.0678  0.0789  0.0102    0.0209  2083.3332    7.641724  "
      ]
     },
     "execution_count": 45,
     "metadata": {},
     "output_type": "execute_result"
    }
   ],
   "source": [
    "#9.1\n",
    "df.head(8)"
   ]
  },
  {
   "cell_type": "code",
   "execution_count": 46,
   "metadata": {},
   "outputs": [
    {
     "data": {
      "text/html": [
       "<div>\n",
       "<style scoped>\n",
       "    .dataframe tbody tr th:only-of-type {\n",
       "        vertical-align: middle;\n",
       "    }\n",
       "\n",
       "    .dataframe tbody tr th {\n",
       "        vertical-align: top;\n",
       "    }\n",
       "\n",
       "    .dataframe thead th {\n",
       "        text-align: right;\n",
       "    }\n",
       "</style>\n",
       "<table border=\"1\" class=\"dataframe\">\n",
       "  <thead>\n",
       "    <tr style=\"text-align: right;\">\n",
       "      <th></th>\n",
       "      <th>Unnamed: 0</th>\n",
       "      <th>mode</th>\n",
       "      <th>price</th>\n",
       "      <th>c_rate</th>\n",
       "      <th>pbeach</th>\n",
       "      <th>ppier</th>\n",
       "      <th>pboat</th>\n",
       "      <th>pcharter</th>\n",
       "      <th>cbeach</th>\n",
       "      <th>cpier</th>\n",
       "      <th>cboat</th>\n",
       "      <th>ccharter</th>\n",
       "      <th>income</th>\n",
       "      <th>log_income</th>\n",
       "    </tr>\n",
       "  </thead>\n",
       "  <tbody>\n",
       "    <tr>\n",
       "      <th>1174</th>\n",
       "      <td>1175</td>\n",
       "      <td>boat</td>\n",
       "      <td>86.802</td>\n",
       "      <td>0.0102</td>\n",
       "      <td>91.834</td>\n",
       "      <td>91.834</td>\n",
       "      <td>86.802</td>\n",
       "      <td>121.802</td>\n",
       "      <td>0.0678</td>\n",
       "      <td>0.0789</td>\n",
       "      <td>0.0102</td>\n",
       "      <td>0.0209</td>\n",
       "      <td>4583.33200</td>\n",
       "      <td>8.430182</td>\n",
       "    </tr>\n",
       "    <tr>\n",
       "      <th>1175</th>\n",
       "      <td>1176</td>\n",
       "      <td>charter</td>\n",
       "      <td>149.402</td>\n",
       "      <td>0.0209</td>\n",
       "      <td>121.034</td>\n",
       "      <td>121.034</td>\n",
       "      <td>114.402</td>\n",
       "      <td>149.402</td>\n",
       "      <td>0.0678</td>\n",
       "      <td>0.0789</td>\n",
       "      <td>0.0102</td>\n",
       "      <td>0.0209</td>\n",
       "      <td>6250.00130</td>\n",
       "      <td>8.740337</td>\n",
       "    </tr>\n",
       "    <tr>\n",
       "      <th>1176</th>\n",
       "      <td>1177</td>\n",
       "      <td>beach</td>\n",
       "      <td>121.836</td>\n",
       "      <td>0.5333</td>\n",
       "      <td>121.836</td>\n",
       "      <td>121.836</td>\n",
       "      <td>203.346</td>\n",
       "      <td>238.346</td>\n",
       "      <td>0.5333</td>\n",
       "      <td>0.4522</td>\n",
       "      <td>0.2413</td>\n",
       "      <td>1.0266</td>\n",
       "      <td>2916.66660</td>\n",
       "      <td>7.978197</td>\n",
       "    </tr>\n",
       "    <tr>\n",
       "      <th>1177</th>\n",
       "      <td>1178</td>\n",
       "      <td>pier</td>\n",
       "      <td>150.236</td>\n",
       "      <td>0.4522</td>\n",
       "      <td>150.236</td>\n",
       "      <td>150.236</td>\n",
       "      <td>250.746</td>\n",
       "      <td>285.746</td>\n",
       "      <td>0.5333</td>\n",
       "      <td>0.4522</td>\n",
       "      <td>0.2413</td>\n",
       "      <td>1.0266</td>\n",
       "      <td>3749.99990</td>\n",
       "      <td>8.229511</td>\n",
       "    </tr>\n",
       "    <tr>\n",
       "      <th>1178</th>\n",
       "      <td>1179</td>\n",
       "      <td>beach</td>\n",
       "      <td>235.436</td>\n",
       "      <td>0.5333</td>\n",
       "      <td>235.436</td>\n",
       "      <td>235.436</td>\n",
       "      <td>392.946</td>\n",
       "      <td>427.946</td>\n",
       "      <td>0.5333</td>\n",
       "      <td>0.4522</td>\n",
       "      <td>0.2413</td>\n",
       "      <td>1.0266</td>\n",
       "      <td>6250.00130</td>\n",
       "      <td>8.740337</td>\n",
       "    </tr>\n",
       "    <tr>\n",
       "      <th>1179</th>\n",
       "      <td>1180</td>\n",
       "      <td>pier</td>\n",
       "      <td>65.036</td>\n",
       "      <td>0.4522</td>\n",
       "      <td>65.036</td>\n",
       "      <td>65.036</td>\n",
       "      <td>108.546</td>\n",
       "      <td>143.546</td>\n",
       "      <td>0.5333</td>\n",
       "      <td>0.4522</td>\n",
       "      <td>0.2413</td>\n",
       "      <td>1.0266</td>\n",
       "      <td>1249.99980</td>\n",
       "      <td>7.130899</td>\n",
       "    </tr>\n",
       "    <tr>\n",
       "      <th>1180</th>\n",
       "      <td>1181</td>\n",
       "      <td>beach</td>\n",
       "      <td>36.636</td>\n",
       "      <td>0.5333</td>\n",
       "      <td>36.636</td>\n",
       "      <td>36.636</td>\n",
       "      <td>61.146</td>\n",
       "      <td>96.146</td>\n",
       "      <td>0.5333</td>\n",
       "      <td>0.4522</td>\n",
       "      <td>0.1665</td>\n",
       "      <td>0.3975</td>\n",
       "      <td>416.66668</td>\n",
       "      <td>6.032287</td>\n",
       "    </tr>\n",
       "    <tr>\n",
       "      <th>1181</th>\n",
       "      <td>1182</td>\n",
       "      <td>boat</td>\n",
       "      <td>235.436</td>\n",
       "      <td>0.6817</td>\n",
       "      <td>339.890</td>\n",
       "      <td>339.890</td>\n",
       "      <td>235.436</td>\n",
       "      <td>260.436</td>\n",
       "      <td>0.2537</td>\n",
       "      <td>0.1498</td>\n",
       "      <td>0.6817</td>\n",
       "      <td>2.3014</td>\n",
       "      <td>6250.00130</td>\n",
       "      <td>8.740337</td>\n",
       "    </tr>\n",
       "  </tbody>\n",
       "</table>\n",
       "</div>"
      ],
      "text/plain": [
       "      Unnamed: 0     mode    price  c_rate   pbeach    ppier    pboat  \\\n",
       "1174        1175     boat   86.802  0.0102   91.834   91.834   86.802   \n",
       "1175        1176  charter  149.402  0.0209  121.034  121.034  114.402   \n",
       "1176        1177    beach  121.836  0.5333  121.836  121.836  203.346   \n",
       "1177        1178     pier  150.236  0.4522  150.236  150.236  250.746   \n",
       "1178        1179    beach  235.436  0.5333  235.436  235.436  392.946   \n",
       "1179        1180     pier   65.036  0.4522   65.036   65.036  108.546   \n",
       "1180        1181    beach   36.636  0.5333   36.636   36.636   61.146   \n",
       "1181        1182     boat  235.436  0.6817  339.890  339.890  235.436   \n",
       "\n",
       "      pcharter  cbeach   cpier   cboat  ccharter      income  log_income  \n",
       "1174   121.802  0.0678  0.0789  0.0102    0.0209  4583.33200    8.430182  \n",
       "1175   149.402  0.0678  0.0789  0.0102    0.0209  6250.00130    8.740337  \n",
       "1176   238.346  0.5333  0.4522  0.2413    1.0266  2916.66660    7.978197  \n",
       "1177   285.746  0.5333  0.4522  0.2413    1.0266  3749.99990    8.229511  \n",
       "1178   427.946  0.5333  0.4522  0.2413    1.0266  6250.00130    8.740337  \n",
       "1179   143.546  0.5333  0.4522  0.2413    1.0266  1249.99980    7.130899  \n",
       "1180    96.146  0.5333  0.4522  0.1665    0.3975   416.66668    6.032287  \n",
       "1181   260.436  0.2537  0.1498  0.6817    2.3014  6250.00130    8.740337  "
      ]
     },
     "execution_count": 46,
     "metadata": {},
     "output_type": "execute_result"
    }
   ],
   "source": [
    "#9.2\n",
    "df.tail(8)"
   ]
  },
  {
   "cell_type": "code",
   "execution_count": null,
   "metadata": {},
   "outputs": [],
   "source": [
    "#10\n",
    "df.to_csv('dataframe.csv')"
   ]
  },
  {
   "cell_type": "markdown",
   "metadata": {},
   "source": [
    "### Часть 3. Parsing & web-scraping (8 баллов)"
   ]
  },
  {
   "cell_type": "markdown",
   "metadata": {},
   "source": [
    "*(3 балла)* Используя html-страницу, ссылка на которую приведена ниже, создайте датафрейм `pandas`, который должен включать следующие столбцы: \n",
    "\n",
    "    * ФИО депутата (name)\n",
    "    * пол депутата (gender)\n",
    "    * партия (party)\n",
    "    \n",
    "Посмотреть на саму страницу можно здесь:\n",
    "\n",
    "https://www.w3schools.com/code/tryit.asp?filename=FSHGYZTU2PBH"
   ]
  },
  {
   "cell_type": "code",
   "execution_count": 19,
   "metadata": {},
   "outputs": [],
   "source": [
    "link = \"https://raw.githubusercontent.com/allatambov/Py-programming-3/master/html-depts.html\""
   ]
  },
  {
   "cell_type": "code",
   "execution_count": 20,
   "metadata": {},
   "outputs": [],
   "source": [
    "import requests\n",
    "from bs4 import BeautifulSoup\n",
    "page = requests.get(link)\n",
    "soup = BeautifulSoup(page.text, 'lxml')"
   ]
  },
  {
   "cell_type": "code",
   "execution_count": 21,
   "metadata": {},
   "outputs": [],
   "source": [
    "dep = []\n",
    "for d in soup.find_all('td', {\"class\":'name'}):\n",
    "    dep.append(d.text)\n",
    "    \n",
    "gen = []\n",
    "for g in soup.find_all('td', {\"class\":'gen'}):\n",
    "    gen.append(g.text)\n",
    "    \n",
    "table = soup.find_all('table', {'class':\"depts\"})\n",
    "party = []\n",
    "for p in soup.find_all('table')[2].find_all('td', {'class':''}):\n",
    "    party.append(p.text)"
   ]
  },
  {
   "cell_type": "code",
   "execution_count": 22,
   "metadata": {},
   "outputs": [
    {
     "data": {
      "text/html": [
       "<div>\n",
       "<style scoped>\n",
       "    .dataframe tbody tr th:only-of-type {\n",
       "        vertical-align: middle;\n",
       "    }\n",
       "\n",
       "    .dataframe tbody tr th {\n",
       "        vertical-align: top;\n",
       "    }\n",
       "\n",
       "    .dataframe thead th {\n",
       "        text-align: right;\n",
       "    }\n",
       "</style>\n",
       "<table border=\"1\" class=\"dataframe\">\n",
       "  <thead>\n",
       "    <tr style=\"text-align: right;\">\n",
       "      <th></th>\n",
       "      <th>gender</th>\n",
       "      <th>name</th>\n",
       "      <th>party</th>\n",
       "    </tr>\n",
       "  </thead>\n",
       "  <tbody>\n",
       "    <tr>\n",
       "      <th>0</th>\n",
       "      <td>Муж</td>\n",
       "      <td>Незнам Незнамович Незнайкин</td>\n",
       "      <td>Знание-сила</td>\n",
       "    </tr>\n",
       "    <tr>\n",
       "      <th>1</th>\n",
       "      <td>Жен</td>\n",
       "      <td>Баба-Яга</td>\n",
       "      <td>Пенсия-вторая жизнь</td>\n",
       "    </tr>\n",
       "    <tr>\n",
       "      <th>2</th>\n",
       "      <td>Жен</td>\n",
       "      <td>Мракобестия Мракобесовна</td>\n",
       "      <td>Знание-сила</td>\n",
       "    </tr>\n",
       "    <tr>\n",
       "      <th>3</th>\n",
       "      <td>Муж</td>\n",
       "      <td>Кум Тыква</td>\n",
       "      <td>Зеленые</td>\n",
       "    </tr>\n",
       "    <tr>\n",
       "      <th>4</th>\n",
       "      <td>Жен</td>\n",
       "      <td>Рассветова Юнона</td>\n",
       "      <td>Партия жаворонков</td>\n",
       "    </tr>\n",
       "  </tbody>\n",
       "</table>\n",
       "</div>"
      ],
      "text/plain": [
       "  gender                         name                party\n",
       "0    Муж  Незнам Незнамович Незнайкин          Знание-сила\n",
       "1    Жен                     Баба-Яга  Пенсия-вторая жизнь\n",
       "2    Жен     Мракобестия Мракобесовна          Знание-сила\n",
       "3    Муж                    Кум Тыква              Зеленые\n",
       "4    Жен             Рассветова Юнона    Партия жаворонков"
      ]
     },
     "execution_count": 22,
     "metadata": {},
     "output_type": "execute_result"
    }
   ],
   "source": [
    "import pandas as pd\n",
    "df = pd.DataFrame({'name':dep, 'gender':gen, 'party':party})\n",
    "df"
   ]
  },
  {
   "cell_type": "markdown",
   "metadata": {},
   "source": [
    "*(5 баллов)* Напишите функцию `get_info()`, которая принимает на вход ссылку на персональную страницу преподавателя ВШЭ, и возвращает список, содержащий следующие элементы:\n",
    "\n",
    "* ФИО преподавателя\n",
    "* Научно-педагогический стаж (лет)\n",
    "* Языки, которыми владеет преподаватель (в виде кортежа из строк)\n",
    "* Курсы, которые читает преподаватель (в виде кортежа из строк)"
   ]
  },
  {
   "cell_type": "code",
   "execution_count": 23,
   "metadata": {},
   "outputs": [],
   "source": [
    "# для примера\n",
    "guess_who = 'https://www.hse.ru/staff/allat'"
   ]
  },
  {
   "cell_type": "code",
   "execution_count": 24,
   "metadata": {},
   "outputs": [],
   "source": [
    "def get_info(link):\n",
    "    import requests\n",
    "    from bs4 import BeautifulSoup\n",
    "    page = requests.get(link)\n",
    "    soup = BeautifulSoup(page.text, 'lxml')\n",
    "    name = soup.find_all('span', {'class':'breadcrumb_current'})\n",
    "    res = []\n",
    "    for i in name:\n",
    "        res.append(i.text)\n",
    "    work = soup.find_all('li', {'class':'i'})\n",
    "    res.append(work[1].text)\n",
    "    l = soup.find_all('dl', {'class':'main-list large main-list-language-knowledge-level'})[0]\n",
    "    lang = []\n",
    "    for i in l.find_all('dd'):\n",
    "        lang.append(i.text)\n",
    "    lang = tuple(lang)\n",
    "    res.append(lang)\n",
    "    clink = link + '#teaching'\n",
    "    cpage = requests.get(clink)\n",
    "    csoup = BeautifulSoup(cpage.text, 'lxml')\n",
    "    info = csoup.find('div', {'tab-node':'edu-courses'})\n",
    "    cs = []\n",
    "    for c in info.find_all('li'):\n",
    "        cs.append(c.find_all('a'))\n",
    "    courses = []\n",
    "    for i in cs[:-1]:\n",
    "        courses.append(i[0].text)\n",
    "    courses = tuple(courses)\n",
    "    res.append(courses)\n",
    "    return res"
   ]
  },
  {
   "cell_type": "code",
   "execution_count": 93,
   "metadata": {},
   "outputs": [
    {
     "data": {
      "text/plain": [
       "['Тамбовцева Алла Андреевна',\n",
       " 'Научно-педагогический стаж: 4 года.',\n",
       " ('английский', 'испанский', 'французский'),\n",
       " ('Data Analysis in the Social Sciences',\n",
       "  'Дополнительные главы теории вероятностей и математической статистики',\n",
       "  'Математика и статистика',\n",
       "  'Математические и статистические методы в психологии',\n",
       "  'Основы программирования в Python',\n",
       "  'Основы программирования в R',\n",
       "  'Программирование для всех (основы работы с Python)')]"
      ]
     },
     "execution_count": 93,
     "metadata": {},
     "output_type": "execute_result"
    }
   ],
   "source": [
    "get_info(guess_who)"
   ]
  }
 ],
 "metadata": {
  "celltoolbar": "Create Assignment",
  "kernelspec": {
   "display_name": "Python 3",
   "language": "python",
   "name": "python3"
  },
  "language_info": {
   "codemirror_mode": {
    "name": "ipython",
    "version": 3
   },
   "file_extension": ".py",
   "mimetype": "text/x-python",
   "name": "python",
   "nbconvert_exporter": "python",
   "pygments_lexer": "ipython3",
   "version": "3.5.2"
  }
 },
 "nbformat": 4,
 "nbformat_minor": 2
}
