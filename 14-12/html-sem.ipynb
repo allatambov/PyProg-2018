{
 "cells": [
  {
   "cell_type": "markdown",
   "metadata": {},
   "source": [
    "# Основы программирования в Python\n",
    "\n",
    "## Семинар 8\n",
    "\n",
    "*Алла Тамбовцева, НИУ ВШЭ*"
   ]
  },
  {
   "cell_type": "markdown",
   "metadata": {},
   "source": [
    "### Задача: \n",
    "    \n",
    "1. Зайти на страницу приемной комиссии магистратуры НИУ ВШЭ, открыть проходные баллы в 2018 году.\n",
    "2. Сгрузить проходные баллы на все магистерские программы, на бюджетные и коммерческие места. \n",
    "3. Создать датафрейм pandas с названиями программ и проходными баллами. Внести все необходимые изменения: изменить типы столбцов, убрать «мусор», дублированные значения и прочее.\n",
    "4. Сохранить датафрейм в csv-файл (или Excel)."
   ]
  }
 ],
 "metadata": {
  "kernelspec": {
   "display_name": "Python 3",
   "language": "python",
   "name": "python3"
  },
  "language_info": {
   "codemirror_mode": {
    "name": "ipython",
    "version": 3
   },
   "file_extension": ".py",
   "mimetype": "text/x-python",
   "name": "python",
   "nbconvert_exporter": "python",
   "pygments_lexer": "ipython3",
   "version": "3.6.5"
  }
 },
 "nbformat": 4,
 "nbformat_minor": 2
}
