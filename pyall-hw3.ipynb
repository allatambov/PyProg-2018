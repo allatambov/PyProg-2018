{
 "cells": [
  {
   "cell_type": "markdown",
   "metadata": {},
   "source": [
    "# Программирование для всех\n",
    "\n",
    "*Алла Тамбовцева*\n",
    "\n",
    "## Домашнее задание 3\n",
    "\n",
    "Срок сдачи: 16 октября, 23:59\n",
    "\n",
    "Формат сдачи: загрузить ipynb-файл на Dropbox (грузить [сюда](https://www.dropbox.com/request/xIIHqrsukXxcxt31zYua)).\n",
    "\n",
    "Файл для работы: `polit.xlsx` ([ссылка](http://math-info.hse.ru/f/2018-19/comm-math/polit.xlsx) на файл)"
   ]
  },
  {
   "cell_type": "markdown",
   "metadata": {},
   "source": [
    "Описание файла: сокращенная версия файла `PetersMcGuireData.xlsx`, взятого [отсюда](http://jmcguire.faculty.wesleyan.edu/welcome/data/#20LActries) (страница James W.McGuire, Data used in “Authoritarianism in the Middle East”). \n",
    "\n",
    "Переменные:\n",
    "\n",
    "* `ctry` – country\n",
    "* `fh09` – **Freedom House** index (ranging from 1 (most) to 7 (fewest) political rights and civil liberties), 2009\n",
    "* `polity09` – **Polity2** score (ranging from -10 to +10, latter most democratic), 2009\n",
    "* `gini` – **Gini index** of income inequality, 2000-2010\n",
    "* `fparl08` – female share of seats in parliament (%), 2008\n",
    "* `mena` – Middle East and North Africa (1 - yes, 0 - no)\n",
    "* `lati` – Latin America (1 - yes, 0 - no)\n",
    "* `cari` – Caribbean, former British, French, Dutch colony\n",
    "* `east` – East Asia\n",
    "* `sovi` – Former Soviet Bloc\n",
    "* `afri` – Africa\n",
    "* `corr0509` – Control of Corruption, average 2005-2009 (expert rating)."
   ]
  },
  {
   "cell_type": "markdown",
   "metadata": {},
   "source": [
    "### Часть 1: знакомство с датафреймом\n",
    "    \n",
    "1. Загрузите таблицу из файла `polit.xlsx` ([ссылка]() на файл) и сохраните ее в переменную `df`. Используйте функцию `read_excel()`.\n",
    "2. Выведите общую информацию по таблице: число строк и столбцов, типы данных в таблице. Есть ли в таблице пропущенные значения?\n",
    "3. Если в таблице есть строки с пропущенными значениями, удалите их. Сохраните изменения в `df`.\n",
    "4. Выведите на экран описательные статистики по всем количественным переменным в таблице. Выберите какой-нибудь интересующий вас столбец и проинтерпретируйте описательные статистики по нему (т.е. опишите «обычными» словами, что значат значения типа `min`, `std`, `50%` и так далее).\n",
    "\n",
    "### Часть 2: фильтрация строк по условиям и сортировка\n",
    "\n",
    "1. Выберите в таблице строки, которые соответствуют странам со значениями Freedom House (`fh09`) выше 5. Сохраните их в переменную `not_free`.\n",
    "2. Выберите в таблице строки, которые соответствуют странам Африки (`afri`) с процентом женщин в парламенте выше 30%.\n",
    "3. Выберите в таблице строки, которые соответствуют странам Африки *или* Латинской Америки (`afri` и `lati`) со значением `polity09` больше или равным 8.\n",
    "4. Отсортируйте строки в таблице в соответствии со значениями столбца со средними значениями индекса *Control of Corruption* (`corr0509`) по убыванию и выведите: первые 10 строк; последние 10 строк. Используйте метод `.sort_values()`. Пример:\n",
    "\n",
    "        df.sort_values('column_name', ascending = False) # ascend - возрастать\n",
    "        \n",
    "### Часть 3: работа со столбцами\n",
    "\n",
    "1. Переименуйте какие-нибудь столбцы в таблице (хотя бы один, можно несколько) и сохраните изменения в `df`.\n",
    "1. Добавьте в `df` столбец `corr_round`, в котором будут храниться округленные до 2 знака после запятой значения индекса *Control of Corruption* (`corr0509`). \n",
    "3. Добавьте в `df` столбец `fh_status`, в котором будут храниться типы стран в зависимости от значения индекса *Freedom House* (значения `free`, `partly free`, `not free`). Соответствие значений `fh09` с типами стран см. [здесь](https://freedomhouse.org/report/freedom-world-2016/methodology) (в конце, Table 3). \n",
    "\n",
    "*Подсказка:* имеет смысл написать свою функцию, которая будет возвращать нужный тип страны (текстовое значение) по поданному на вход индексу Freedom House (числовое значение), а потом применить ее к столбцу `fh09` Пример написания функции для перевода оценок в 10-балльной шкале в текстовые отметки:"
   ]
  },
  {
   "cell_type": "code",
   "execution_count": 41,
   "metadata": {},
   "outputs": [],
   "source": [
    "# функция convert_marks\n",
    "\n",
    "def convert_marks(mark):\n",
    "    if mark < 4:\n",
    "        a = 'плохо'\n",
    "    elif mark >= 4 and mark < 6:\n",
    "        a = 'удовлетворительно'\n",
    "    elif mark >= 6 and mark < 8:\n",
    "        a = 'хорошо'\n",
    "    else:\n",
    "        a = 'отлично'\n",
    "    return a"
   ]
  },
  {
   "cell_type": "code",
   "execution_count": 42,
   "metadata": {},
   "outputs": [
    {
     "data": {
      "text/html": [
       "<div>\n",
       "<style scoped>\n",
       "    .dataframe tbody tr th:only-of-type {\n",
       "        vertical-align: middle;\n",
       "    }\n",
       "\n",
       "    .dataframe tbody tr th {\n",
       "        vertical-align: top;\n",
       "    }\n",
       "\n",
       "    .dataframe thead th {\n",
       "        text-align: right;\n",
       "    }\n",
       "</style>\n",
       "<table border=\"1\" class=\"dataframe\">\n",
       "  <thead>\n",
       "    <tr style=\"text-align: right;\">\n",
       "      <th></th>\n",
       "      <th>name</th>\n",
       "      <th>mark</th>\n",
       "    </tr>\n",
       "  </thead>\n",
       "  <tbody>\n",
       "    <tr>\n",
       "      <th>0</th>\n",
       "      <td>Ann</td>\n",
       "      <td>4</td>\n",
       "    </tr>\n",
       "    <tr>\n",
       "      <th>1</th>\n",
       "      <td>Peter</td>\n",
       "      <td>8</td>\n",
       "    </tr>\n",
       "    <tr>\n",
       "      <th>2</th>\n",
       "      <td>Sam</td>\n",
       "      <td>6</td>\n",
       "    </tr>\n",
       "    <tr>\n",
       "      <th>3</th>\n",
       "      <td>Queen</td>\n",
       "      <td>10</td>\n",
       "    </tr>\n",
       "  </tbody>\n",
       "</table>\n",
       "</div>"
      ],
      "text/plain": [
       "    name  mark\n",
       "0    Ann     4\n",
       "1  Peter     8\n",
       "2    Sam     6\n",
       "3  Queen    10"
      ]
     },
     "execution_count": 42,
     "metadata": {},
     "output_type": "execute_result"
    }
   ],
   "source": [
    "# маленький датафрейм, полученный из словаря d\n",
    "\n",
    "import pandas as pd\n",
    "\n",
    "d = {'Ann': 4, 'Peter': 8, 'Sam': 6, 'Queen': 10}\n",
    "dat = pd.DataFrame(list(d.items()), columns=['name', 'mark'])\n",
    "dat"
   ]
  },
  {
   "cell_type": "code",
   "execution_count": 43,
   "metadata": {},
   "outputs": [
    {
     "data": {
      "text/plain": [
       "['удовлетворительно', 'отлично', 'хорошо', 'отлично']"
      ]
     },
     "execution_count": 43,
     "metadata": {},
     "output_type": "execute_result"
    }
   ],
   "source": [
    "[convert_marks(m) for m in dat.mark]"
   ]
  },
  {
   "cell_type": "markdown",
   "metadata": {},
   "source": [
    "### Часть 4: группировка и агрегирование\n",
    "\n",
    "1. Сгруппируйте строки в таблице в соответствии со значениями столбца `fh_status`, полученного в предыдущей части и выведите минимальное, среднее и максимальное значение показателя `gini` (индекс Джини) по каждой группе.\n",
    "2. Сгруппируйте строки в таблице в соответствии со значениями столбца `fh_status` и запишите строки, относящиеся к разным группам, в отдельные csv-файлы. \n",
    "\n",
    "*Подсказка:* используйте цикл `for` и перебирайте в нем пары название *группы-датафрейм*. Попробуйте прогнать следующий код и посмотреть, что получится:\n",
    "\n",
    "        for name, table in df.groupby('fh_status'):\n",
    "            print(name, table.head(2))"
   ]
  },
  {
   "cell_type": "markdown",
   "metadata": {},
   "source": [
    "### Часть 5: визуализация\n",
    "\n",
    "1. Сочетая функционал `pandas` и `matplotlib`, постройте гистограмму для показателя `fparl08`. Поменяйте цвет гистограммы (см. список цветов [здесь](https://matplotlib.org/users/colors.html)). Добавьте заголовок к графику.\n",
    "\n",
    "2. Постройте диаграмму рассеяния (*scatterplot*, функция `scatter`) для пары показателей `fh09` и `corr0509`. Поменяйте тип точек (маркер) и цвет точек. Добавьте заголовок к графику.\n",
    "\n",
    "3. Сохраните (выгрузите в файл) график из предыдущего пункта в формате `.png`."
   ]
  }
 ],
 "metadata": {
  "kernelspec": {
   "display_name": "Python 3",
   "language": "python",
   "name": "python3"
  },
  "language_info": {
   "codemirror_mode": {
    "name": "ipython",
    "version": 3
   },
   "file_extension": ".py",
   "mimetype": "text/x-python",
   "name": "python",
   "nbconvert_exporter": "python",
   "pygments_lexer": "ipython3",
   "version": "3.6.5"
  }
 },
 "nbformat": 4,
 "nbformat_minor": 2
}
