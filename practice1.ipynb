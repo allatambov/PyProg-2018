{
 "cells": [
  {
   "cell_type": "markdown",
   "metadata": {},
   "source": [
    "# Основы программирования в Python\n",
    "\n",
    "*Алла Тамбовцева, НИУ ВШЭ*"
   ]
  },
  {
   "cell_type": "markdown",
   "metadata": {},
   "source": [
    "Напишите программу, которая позволит делать следующее:\n",
    "    \n",
    "* запрашивать у пользователя с клавиатуры название произведения, его жанр, автора, имя героя, его возраст и пол\n",
    "* выводить на экран текст шаблона с заполненными полями. Пример (поля заключены в квадратные скобки):\n",
    "\n",
    "        Герой  [романа]  [А.Дюма]  «[Граф Монте-Кристо]»  [Эдмон Дантес]. Ему примерно [20] лет. \n",
    "\n",
    "Учтите, что на основе введенного значения пола, местоимение перед указанием возраста должно меняться: *ему-ей*.\n",
    "\n",
    "Выполнение этого задания предполагает использование форматирования строк и условных конструкций. При желании можно познакомиться с функциолналом библиотеки [pymorhy2](https://nbviewer.jupyter.org/github/allatambov/Py-programming-3/blob/master/add/texts-part2.ipynb) и использовать ее возможности для постановки слова в нужный падеж."
   ]
  }
 ],
 "metadata": {
  "kernelspec": {
   "display_name": "Python 3",
   "language": "python",
   "name": "python3"
  },
  "language_info": {
   "codemirror_mode": {
    "name": "ipython",
    "version": 3
   },
   "file_extension": ".py",
   "mimetype": "text/x-python",
   "name": "python",
   "nbconvert_exporter": "python",
   "pygments_lexer": "ipython3",
   "version": "3.6.5"
  }
 },
 "nbformat": 4,
 "nbformat_minor": 2
}
