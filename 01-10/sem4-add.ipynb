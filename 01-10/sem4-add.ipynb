{
 "cells": [
  {
   "cell_type": "markdown",
   "metadata": {},
   "source": [
    "# Основы программирования в Python\n",
    "\n",
    "*Алла Тамбовцева, НИУ ВШЭ*"
   ]
  },
  {
   "cell_type": "markdown",
   "metadata": {},
   "source": [
    "### Задача 1\n",
    "\n",
    "Напишите программу, которая запрашивает у пользователя его баллы в дипломе через пробел и выводит на экран сводную информацию: GPA (средний балл), минимальный балл и максимальный балл, словарь с парами тип оценки-число таких оценок.\n",
    "\n",
    "Использовать встроенную функции `mean()`, `min()`, `max()` нельзя, но функции `sum()` и `sorted()`, а также метод `.count()` для списков можно.\n",
    "\n",
    "*Пример:*\n",
    "\n",
    "Входные данные:\n",
    "\n",
    "    Введите ваши оценки: 8 9 10 10 7 6 6 5 8 9\n",
    "\n",
    "Выходные данные:\n",
    "\n",
    "    GPA: 7.800000\n",
    "    Минимальный балл: 5\n",
    "    Максимальный балл: 10\n",
    "    {5: 1, 6: 2, 7: 1, 8: 2, 9: 2, 10: 2}"
   ]
  },
  {
   "cell_type": "markdown",
   "metadata": {},
   "source": [
    "### Задача 2\n",
    "\n",
    "Напишите программу, которая просит пользователя заполнить пропуски в предложениях (дописать фразовые глаголы), считает число правильных ответов и выводит сумму баллов из 10 (каждое предложение весит 1 балл).\n",
    "\n",
    "Предложения с пропусками и недостающие предлоги сохранены в словаре `answers`:"
   ]
  },
  {
   "cell_type": "code",
   "execution_count": 1,
   "metadata": {},
   "outputs": [],
   "source": [
    "answers = {\"She turned ___ the light so as to enjoy the darkness.\" : \"off\",\n",
    "           \"It was so hot in the room, so she felt she was going to get ___.\" : \"down\",\n",
    "           \"Mary turned right and came ___ her friend Peter.\" : \"across\", \n",
    "           \"It will be very cold in the mountains, so put ___ all warm clothes you have.\" : \"on\", \n",
    "           \"There was no morning when he did not come ___ with a great idea.\" : \"up\", \n",
    "           \"I can't hear you properly, speak ___, please.\" : \"up\", \n",
    "           \"Give ___ talking when I start to speak.\" : \"up\",\n",
    "           \"We get ___ well with our neighbours, we never argue.\" : \"on\", \n",
    "           \"Be careful, the plane is going to take ___.\" : \"off\",\n",
    "           \"He was very sad while listening to the teacher who called him ___.\" : \"down\"}"
   ]
  },
  {
   "cell_type": "markdown",
   "metadata": {},
   "source": [
    "Чтобы получить отступ в одну строку, в конце предыдущей строки можно поставить \\n, символ перехода на новую строку.\n",
    "\n",
    "Пример:\n",
    "\n",
    "    Fill in the gaps in the sentences. \n",
    "\n",
    "    We get ___ well with our neighbours, we never argue.\n",
    "    Your answer: on\n",
    "    She turned ___ the light so as to enjoy the darkness.\n",
    "    Your answer: off\n",
    "    I can't hear you properly, speak ___, please.\n",
    "    Your answer: up\n",
    "    Be careful, the plane is going to take ___.\n",
    "    Your answer: off\n",
    "    He was very sad while listening to the teacher who called him ___.\n",
    "    Your answer: off\n",
    "    There was no morning when he did not come ___ with a great idea.\n",
    "    Your answer: up\n",
    "    It will be very cold in the mountains, so put ___ all warm clothes you have.\n",
    "    Your answer: on\n",
    "    It was so hot in the room, so she felt she was going to get ___.\n",
    "    Your answer: back\n",
    "    Mary turned right and came ___ her friend Peter.\n",
    "    Your answer: across\n",
    "    Give ___ talking when I start to speak.\n",
    "    Your answer: up\n",
    "\n",
    "     Your score is: 8 out of 10\n",
    "    You made mistakes in the following sentences: \n",
    "    He was very sad while listening to the teacher who called him ___.\n",
    "    It was so hot in the room, so she felt she was going to get ___.\n"
   ]
  }
 ],
 "metadata": {
  "kernelspec": {
   "display_name": "Python 3",
   "language": "python",
   "name": "python3"
  },
  "language_info": {
   "codemirror_mode": {
    "name": "ipython",
    "version": 3
   },
   "file_extension": ".py",
   "mimetype": "text/x-python",
   "name": "python",
   "nbconvert_exporter": "python",
   "pygments_lexer": "ipython3",
   "version": "3.6.5"
  }
 },
 "nbformat": 4,
 "nbformat_minor": 2
}
