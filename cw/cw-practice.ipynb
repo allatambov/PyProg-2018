{
 "cells": [
  {
   "cell_type": "markdown",
   "metadata": {},
   "source": [
    "# Основы программирования в Python \n",
    "\n",
    "### Контрольная работа\n",
    "### Практическая часть\n",
    "\n",
    "*Максимальное количество баллов за практическую часть: 15*"
   ]
  },
  {
   "cell_type": "markdown",
   "metadata": {},
   "source": [
    "### Задача 1 (3 балла)"
   ]
  },
  {
   "cell_type": "markdown",
   "metadata": {},
   "source": [
    "Дан лист строк `numbers`:"
   ]
  },
  {
   "cell_type": "code",
   "execution_count": 1,
   "metadata": {},
   "outputs": [],
   "source": [
    "numbers = ['67', '34', '5', '15', '24']"
   ]
  },
  {
   "cell_type": "markdown",
   "metadata": {},
   "source": [
    "Известно, что каждый элемент списка может быть явно конвертирован в число. Используя\n",
    "списковые включения (*list comprehensions*), создайте новую переменную, которая будет\n",
    "содержать только элементы списка `numbers`, делящиеся на 5 без остатка.\n",
    "\n",
    "**Пример кода:**"
   ]
  },
  {
   "cell_type": "code",
   "execution_count": 2,
   "metadata": {},
   "outputs": [],
   "source": [
    "numbers = ['67', '34', '5', '15', '24']\n",
    "# some code here\n",
    "# new_numbers is [5, 15]"
   ]
  },
  {
   "cell_type": "markdown",
   "metadata": {},
   "source": [
    "### Задача 2 (3 балла)"
   ]
  },
  {
   "cell_type": "markdown",
   "metadata": {},
   "source": [
    "Реализуйте функцию `remove_all`, которая принимает на вход список `arr` и заданный элемент,\n",
    "а при вызове удаляет все элементы, равные заданному, из списка. \n",
    "\n",
    "**Пример\n",
    "работы:**"
   ]
  },
  {
   "cell_type": "markdown",
   "metadata": {},
   "source": [
    "    arr = [10, 30, 20, 50, 60, 20, 20]\n",
    "    remove_all(arr, 20)\n",
    "    [10, 30, 50, 60]"
   ]
  },
  {
   "cell_type": "markdown",
   "metadata": {},
   "source": [
    "### Задача 3 (9 баллов)"
   ]
  },
  {
   "cell_type": "markdown",
   "metadata": {},
   "source": [
    "Дана строка `st`. Формат строки – целые числа, отделяемые друг от друга пробелом."
   ]
  },
  {
   "cell_type": "code",
   "execution_count": 4,
   "metadata": {},
   "outputs": [],
   "source": [
    "st = '170 89 90 231 ...' # количество элементов неизвестно"
   ]
  },
  {
   "cell_type": "markdown",
   "metadata": {},
   "source": [
    "С помощью одного спискового включения, получите список логических (*boolean*) значений. Элемент равен `True`, если новое число, образованное цифрами в обратном порядке от соответствующего числа (пример: `78 -> 87`, `231 -> 132`) не меньше 98. В противном случае элемент\n",
    "равен `False`.\n",
    "\n",
    "\n",
    "Например, возьмем первое число в строке `st`, число 170. Его цифры в обратном порядке дадут число 71. Число 71 меньше 98. Следовательно, первый элемент нового листа будет равен `False`. Возьмем второе число в строке st, число 89. Его цифры в обратном порядке дадут число 98. Число 98 не меньше 98 (а равно). Следовательно, второй элемент нового листа будет равен `True`."
   ]
  }
 ],
 "metadata": {
  "kernelspec": {
   "display_name": "Python 3",
   "language": "python",
   "name": "python3"
  },
  "language_info": {
   "codemirror_mode": {
    "name": "ipython",
    "version": 3
   },
   "file_extension": ".py",
   "mimetype": "text/x-python",
   "name": "python",
   "nbconvert_exporter": "python",
   "pygments_lexer": "ipython3",
   "version": "3.6.5"
  }
 },
 "nbformat": 4,
 "nbformat_minor": 2
}
